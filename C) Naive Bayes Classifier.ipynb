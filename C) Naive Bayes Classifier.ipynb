{
 "cells": [
  {
   "cell_type": "markdown",
   "metadata": {},
   "source": [
    "## Import Libraries"
   ]
  },
  {
   "cell_type": "code",
   "execution_count": 1,
   "metadata": {
    "collapsed": true
   },
   "outputs": [],
   "source": [
    "import pandas as pd\n",
    "import numpy as np\n",
    "import matplotlib.pyplot as plt\n",
    "import time\n",
    "from sklearn.model_selection import train_test_split\n",
    "from sklearn.naive_bayes import GaussianNB, BernoulliNB, MultinomialNB"
   ]
  },
  {
   "cell_type": "code",
   "execution_count": 2,
   "metadata": {},
   "outputs": [
    {
     "data": {
      "text/html": [
       "<div>\n",
       "<style>\n",
       "    .dataframe thead tr:only-child th {\n",
       "        text-align: right;\n",
       "    }\n",
       "\n",
       "    .dataframe thead th {\n",
       "        text-align: left;\n",
       "    }\n",
       "\n",
       "    .dataframe tbody tr th {\n",
       "        vertical-align: top;\n",
       "    }\n",
       "</style>\n",
       "<table border=\"1\" class=\"dataframe\">\n",
       "  <thead>\n",
       "    <tr style=\"text-align: right;\">\n",
       "      <th></th>\n",
       "      <th>patient_id</th>\n",
       "      <th>slope_of_peak_exercise_st_segment</th>\n",
       "      <th>thal</th>\n",
       "      <th>resting_blood_pressure</th>\n",
       "      <th>chest_pain_type</th>\n",
       "      <th>num_major_vessels</th>\n",
       "      <th>fasting_blood_sugar_gt_120_mg_per_dl</th>\n",
       "      <th>resting_ekg_results</th>\n",
       "      <th>serum_cholesterol_mg_per_dl</th>\n",
       "      <th>oldpeak_eq_st_depression</th>\n",
       "      <th>sex</th>\n",
       "      <th>age</th>\n",
       "      <th>max_heart_rate_achieved</th>\n",
       "      <th>exercise_induced_angina</th>\n",
       "      <th>heart_disease_present</th>\n",
       "    </tr>\n",
       "  </thead>\n",
       "  <tbody>\n",
       "    <tr>\n",
       "      <th>0</th>\n",
       "      <td>0z64un</td>\n",
       "      <td>1</td>\n",
       "      <td>normal</td>\n",
       "      <td>128</td>\n",
       "      <td>2</td>\n",
       "      <td>0</td>\n",
       "      <td>0</td>\n",
       "      <td>2</td>\n",
       "      <td>308</td>\n",
       "      <td>0.0</td>\n",
       "      <td>1</td>\n",
       "      <td>45</td>\n",
       "      <td>170</td>\n",
       "      <td>0</td>\n",
       "      <td>0</td>\n",
       "    </tr>\n",
       "    <tr>\n",
       "      <th>1</th>\n",
       "      <td>ryoo3j</td>\n",
       "      <td>2</td>\n",
       "      <td>normal</td>\n",
       "      <td>110</td>\n",
       "      <td>3</td>\n",
       "      <td>0</td>\n",
       "      <td>0</td>\n",
       "      <td>0</td>\n",
       "      <td>214</td>\n",
       "      <td>1.6</td>\n",
       "      <td>0</td>\n",
       "      <td>54</td>\n",
       "      <td>158</td>\n",
       "      <td>0</td>\n",
       "      <td>0</td>\n",
       "    </tr>\n",
       "    <tr>\n",
       "      <th>2</th>\n",
       "      <td>yt1s1x</td>\n",
       "      <td>1</td>\n",
       "      <td>normal</td>\n",
       "      <td>125</td>\n",
       "      <td>4</td>\n",
       "      <td>3</td>\n",
       "      <td>0</td>\n",
       "      <td>2</td>\n",
       "      <td>304</td>\n",
       "      <td>0.0</td>\n",
       "      <td>1</td>\n",
       "      <td>77</td>\n",
       "      <td>162</td>\n",
       "      <td>1</td>\n",
       "      <td>1</td>\n",
       "    </tr>\n",
       "    <tr>\n",
       "      <th>3</th>\n",
       "      <td>l2xjde</td>\n",
       "      <td>1</td>\n",
       "      <td>reversible_defect</td>\n",
       "      <td>152</td>\n",
       "      <td>4</td>\n",
       "      <td>0</td>\n",
       "      <td>0</td>\n",
       "      <td>0</td>\n",
       "      <td>223</td>\n",
       "      <td>0.0</td>\n",
       "      <td>1</td>\n",
       "      <td>40</td>\n",
       "      <td>181</td>\n",
       "      <td>0</td>\n",
       "      <td>1</td>\n",
       "    </tr>\n",
       "    <tr>\n",
       "      <th>4</th>\n",
       "      <td>oyt4ek</td>\n",
       "      <td>3</td>\n",
       "      <td>reversible_defect</td>\n",
       "      <td>178</td>\n",
       "      <td>1</td>\n",
       "      <td>0</td>\n",
       "      <td>0</td>\n",
       "      <td>2</td>\n",
       "      <td>270</td>\n",
       "      <td>4.2</td>\n",
       "      <td>1</td>\n",
       "      <td>59</td>\n",
       "      <td>145</td>\n",
       "      <td>0</td>\n",
       "      <td>0</td>\n",
       "    </tr>\n",
       "  </tbody>\n",
       "</table>\n",
       "</div>"
      ],
      "text/plain": [
       "  patient_id  slope_of_peak_exercise_st_segment               thal  \\\n",
       "0     0z64un                                  1             normal   \n",
       "1     ryoo3j                                  2             normal   \n",
       "2     yt1s1x                                  1             normal   \n",
       "3     l2xjde                                  1  reversible_defect   \n",
       "4     oyt4ek                                  3  reversible_defect   \n",
       "\n",
       "   resting_blood_pressure  chest_pain_type  num_major_vessels  \\\n",
       "0                     128                2                  0   \n",
       "1                     110                3                  0   \n",
       "2                     125                4                  3   \n",
       "3                     152                4                  0   \n",
       "4                     178                1                  0   \n",
       "\n",
       "   fasting_blood_sugar_gt_120_mg_per_dl  resting_ekg_results  \\\n",
       "0                                     0                    2   \n",
       "1                                     0                    0   \n",
       "2                                     0                    2   \n",
       "3                                     0                    0   \n",
       "4                                     0                    2   \n",
       "\n",
       "   serum_cholesterol_mg_per_dl  oldpeak_eq_st_depression  sex  age  \\\n",
       "0                          308                       0.0    1   45   \n",
       "1                          214                       1.6    0   54   \n",
       "2                          304                       0.0    1   77   \n",
       "3                          223                       0.0    1   40   \n",
       "4                          270                       4.2    1   59   \n",
       "\n",
       "   max_heart_rate_achieved  exercise_induced_angina  heart_disease_present  \n",
       "0                      170                        0                      0  \n",
       "1                      158                        0                      0  \n",
       "2                      162                        1                      1  \n",
       "3                      181                        0                      1  \n",
       "4                      145                        0                      0  "
      ]
     },
     "execution_count": 2,
     "metadata": {},
     "output_type": "execute_result"
    }
   ],
   "source": [
    "heart_df = heart_df=pd.read_csv(\"C:\\\\Users\\\\Ankita & Subhash\\\\Desktop\\\\MSITM\\\\Fall Semester 2018\\\\Machine Learning\\\\Project\\\\Data From Competition Website\\\\train_values.csv\")\n",
    "heart_df.head()"
   ]
  },
  {
   "cell_type": "code",
   "execution_count": 10,
   "metadata": {},
   "outputs": [],
   "source": [
    "## Convert Categorical Variable to Numeric Variable\n",
    "heart_df[\"thal_cleaned\"]=np.where(heart_df[\"thal\"]==\"normal\",0,\n",
    "                                  np.where(heart_df[\"thal\"]==\"fixed_defect\",1,\n",
    "                                           np.where(heart_df[\"thal\"]==\"reversible_defect\",2,3)\n",
    "                                          )\n",
    "                                 )"
   ]
  },
  {
   "cell_type": "code",
   "execution_count": 9,
   "metadata": {},
   "outputs": [
    {
     "data": {
      "text/html": [
       "<div>\n",
       "<style>\n",
       "    .dataframe thead tr:only-child th {\n",
       "        text-align: right;\n",
       "    }\n",
       "\n",
       "    .dataframe thead th {\n",
       "        text-align: left;\n",
       "    }\n",
       "\n",
       "    .dataframe tbody tr th {\n",
       "        vertical-align: top;\n",
       "    }\n",
       "</style>\n",
       "<table border=\"1\" class=\"dataframe\">\n",
       "  <thead>\n",
       "    <tr style=\"text-align: right;\">\n",
       "      <th></th>\n",
       "      <th>patient_id</th>\n",
       "      <th>slope_of_peak_exercise_st_segment</th>\n",
       "      <th>thal</th>\n",
       "      <th>resting_blood_pressure</th>\n",
       "      <th>chest_pain_type</th>\n",
       "      <th>num_major_vessels</th>\n",
       "      <th>fasting_blood_sugar_gt_120_mg_per_dl</th>\n",
       "      <th>resting_ekg_results</th>\n",
       "      <th>serum_cholesterol_mg_per_dl</th>\n",
       "      <th>oldpeak_eq_st_depression</th>\n",
       "      <th>sex</th>\n",
       "      <th>age</th>\n",
       "      <th>max_heart_rate_achieved</th>\n",
       "      <th>exercise_induced_angina</th>\n",
       "      <th>heart_disease_present</th>\n",
       "      <th>thal_cleaned</th>\n",
       "    </tr>\n",
       "  </thead>\n",
       "  <tbody>\n",
       "    <tr>\n",
       "      <th>0</th>\n",
       "      <td>0z64un</td>\n",
       "      <td>1</td>\n",
       "      <td>normal</td>\n",
       "      <td>128</td>\n",
       "      <td>2</td>\n",
       "      <td>0</td>\n",
       "      <td>0</td>\n",
       "      <td>2</td>\n",
       "      <td>308</td>\n",
       "      <td>0.0</td>\n",
       "      <td>1</td>\n",
       "      <td>45</td>\n",
       "      <td>170</td>\n",
       "      <td>0</td>\n",
       "      <td>0</td>\n",
       "      <td>0</td>\n",
       "    </tr>\n",
       "    <tr>\n",
       "      <th>1</th>\n",
       "      <td>ryoo3j</td>\n",
       "      <td>2</td>\n",
       "      <td>normal</td>\n",
       "      <td>110</td>\n",
       "      <td>3</td>\n",
       "      <td>0</td>\n",
       "      <td>0</td>\n",
       "      <td>0</td>\n",
       "      <td>214</td>\n",
       "      <td>1.6</td>\n",
       "      <td>0</td>\n",
       "      <td>54</td>\n",
       "      <td>158</td>\n",
       "      <td>0</td>\n",
       "      <td>0</td>\n",
       "      <td>0</td>\n",
       "    </tr>\n",
       "    <tr>\n",
       "      <th>2</th>\n",
       "      <td>yt1s1x</td>\n",
       "      <td>1</td>\n",
       "      <td>normal</td>\n",
       "      <td>125</td>\n",
       "      <td>4</td>\n",
       "      <td>3</td>\n",
       "      <td>0</td>\n",
       "      <td>2</td>\n",
       "      <td>304</td>\n",
       "      <td>0.0</td>\n",
       "      <td>1</td>\n",
       "      <td>77</td>\n",
       "      <td>162</td>\n",
       "      <td>1</td>\n",
       "      <td>1</td>\n",
       "      <td>0</td>\n",
       "    </tr>\n",
       "    <tr>\n",
       "      <th>3</th>\n",
       "      <td>l2xjde</td>\n",
       "      <td>1</td>\n",
       "      <td>reversible_defect</td>\n",
       "      <td>152</td>\n",
       "      <td>4</td>\n",
       "      <td>0</td>\n",
       "      <td>0</td>\n",
       "      <td>0</td>\n",
       "      <td>223</td>\n",
       "      <td>0.0</td>\n",
       "      <td>1</td>\n",
       "      <td>40</td>\n",
       "      <td>181</td>\n",
       "      <td>0</td>\n",
       "      <td>1</td>\n",
       "      <td>2</td>\n",
       "    </tr>\n",
       "    <tr>\n",
       "      <th>4</th>\n",
       "      <td>oyt4ek</td>\n",
       "      <td>3</td>\n",
       "      <td>reversible_defect</td>\n",
       "      <td>178</td>\n",
       "      <td>1</td>\n",
       "      <td>0</td>\n",
       "      <td>0</td>\n",
       "      <td>2</td>\n",
       "      <td>270</td>\n",
       "      <td>4.2</td>\n",
       "      <td>1</td>\n",
       "      <td>59</td>\n",
       "      <td>145</td>\n",
       "      <td>0</td>\n",
       "      <td>0</td>\n",
       "      <td>2</td>\n",
       "    </tr>\n",
       "    <tr>\n",
       "      <th>5</th>\n",
       "      <td>ldukkw</td>\n",
       "      <td>1</td>\n",
       "      <td>normal</td>\n",
       "      <td>130</td>\n",
       "      <td>3</td>\n",
       "      <td>0</td>\n",
       "      <td>0</td>\n",
       "      <td>0</td>\n",
       "      <td>180</td>\n",
       "      <td>0.0</td>\n",
       "      <td>1</td>\n",
       "      <td>42</td>\n",
       "      <td>150</td>\n",
       "      <td>0</td>\n",
       "      <td>0</td>\n",
       "      <td>0</td>\n",
       "    </tr>\n",
       "    <tr>\n",
       "      <th>6</th>\n",
       "      <td>2gbyh9</td>\n",
       "      <td>2</td>\n",
       "      <td>reversible_defect</td>\n",
       "      <td>150</td>\n",
       "      <td>4</td>\n",
       "      <td>2</td>\n",
       "      <td>0</td>\n",
       "      <td>2</td>\n",
       "      <td>258</td>\n",
       "      <td>2.6</td>\n",
       "      <td>0</td>\n",
       "      <td>60</td>\n",
       "      <td>157</td>\n",
       "      <td>0</td>\n",
       "      <td>1</td>\n",
       "      <td>2</td>\n",
       "    </tr>\n",
       "    <tr>\n",
       "      <th>7</th>\n",
       "      <td>daa9kp</td>\n",
       "      <td>2</td>\n",
       "      <td>fixed_defect</td>\n",
       "      <td>150</td>\n",
       "      <td>4</td>\n",
       "      <td>1</td>\n",
       "      <td>0</td>\n",
       "      <td>2</td>\n",
       "      <td>276</td>\n",
       "      <td>0.6</td>\n",
       "      <td>1</td>\n",
       "      <td>57</td>\n",
       "      <td>112</td>\n",
       "      <td>1</td>\n",
       "      <td>1</td>\n",
       "      <td>1</td>\n",
       "    </tr>\n",
       "    <tr>\n",
       "      <th>8</th>\n",
       "      <td>3nwy2n</td>\n",
       "      <td>3</td>\n",
       "      <td>reversible_defect</td>\n",
       "      <td>170</td>\n",
       "      <td>4</td>\n",
       "      <td>0</td>\n",
       "      <td>0</td>\n",
       "      <td>2</td>\n",
       "      <td>326</td>\n",
       "      <td>3.4</td>\n",
       "      <td>1</td>\n",
       "      <td>59</td>\n",
       "      <td>140</td>\n",
       "      <td>1</td>\n",
       "      <td>1</td>\n",
       "      <td>2</td>\n",
       "    </tr>\n",
       "    <tr>\n",
       "      <th>9</th>\n",
       "      <td>1r508r</td>\n",
       "      <td>2</td>\n",
       "      <td>normal</td>\n",
       "      <td>120</td>\n",
       "      <td>3</td>\n",
       "      <td>0</td>\n",
       "      <td>0</td>\n",
       "      <td>0</td>\n",
       "      <td>219</td>\n",
       "      <td>1.6</td>\n",
       "      <td>0</td>\n",
       "      <td>50</td>\n",
       "      <td>158</td>\n",
       "      <td>0</td>\n",
       "      <td>0</td>\n",
       "      <td>0</td>\n",
       "    </tr>\n",
       "  </tbody>\n",
       "</table>\n",
       "</div>"
      ],
      "text/plain": [
       "  patient_id  slope_of_peak_exercise_st_segment               thal  \\\n",
       "0     0z64un                                  1             normal   \n",
       "1     ryoo3j                                  2             normal   \n",
       "2     yt1s1x                                  1             normal   \n",
       "3     l2xjde                                  1  reversible_defect   \n",
       "4     oyt4ek                                  3  reversible_defect   \n",
       "5     ldukkw                                  1             normal   \n",
       "6     2gbyh9                                  2  reversible_defect   \n",
       "7     daa9kp                                  2       fixed_defect   \n",
       "8     3nwy2n                                  3  reversible_defect   \n",
       "9     1r508r                                  2             normal   \n",
       "\n",
       "   resting_blood_pressure  chest_pain_type  num_major_vessels  \\\n",
       "0                     128                2                  0   \n",
       "1                     110                3                  0   \n",
       "2                     125                4                  3   \n",
       "3                     152                4                  0   \n",
       "4                     178                1                  0   \n",
       "5                     130                3                  0   \n",
       "6                     150                4                  2   \n",
       "7                     150                4                  1   \n",
       "8                     170                4                  0   \n",
       "9                     120                3                  0   \n",
       "\n",
       "   fasting_blood_sugar_gt_120_mg_per_dl  resting_ekg_results  \\\n",
       "0                                     0                    2   \n",
       "1                                     0                    0   \n",
       "2                                     0                    2   \n",
       "3                                     0                    0   \n",
       "4                                     0                    2   \n",
       "5                                     0                    0   \n",
       "6                                     0                    2   \n",
       "7                                     0                    2   \n",
       "8                                     0                    2   \n",
       "9                                     0                    0   \n",
       "\n",
       "   serum_cholesterol_mg_per_dl  oldpeak_eq_st_depression  sex  age  \\\n",
       "0                          308                       0.0    1   45   \n",
       "1                          214                       1.6    0   54   \n",
       "2                          304                       0.0    1   77   \n",
       "3                          223                       0.0    1   40   \n",
       "4                          270                       4.2    1   59   \n",
       "5                          180                       0.0    1   42   \n",
       "6                          258                       2.6    0   60   \n",
       "7                          276                       0.6    1   57   \n",
       "8                          326                       3.4    1   59   \n",
       "9                          219                       1.6    0   50   \n",
       "\n",
       "   max_heart_rate_achieved  exercise_induced_angina  heart_disease_present  \\\n",
       "0                      170                        0                      0   \n",
       "1                      158                        0                      0   \n",
       "2                      162                        1                      1   \n",
       "3                      181                        0                      1   \n",
       "4                      145                        0                      0   \n",
       "5                      150                        0                      0   \n",
       "6                      157                        0                      1   \n",
       "7                      112                        1                      1   \n",
       "8                      140                        1                      1   \n",
       "9                      158                        0                      0   \n",
       "\n",
       "   thal_cleaned  \n",
       "0             0  \n",
       "1             0  \n",
       "2             0  \n",
       "3             2  \n",
       "4             2  \n",
       "5             0  \n",
       "6             2  \n",
       "7             1  \n",
       "8             2  \n",
       "9             0  "
      ]
     },
     "execution_count": 9,
     "metadata": {},
     "output_type": "execute_result"
    }
   ],
   "source": [
    "heart_df.head(10)"
   ]
  },
  {
   "cell_type": "markdown",
   "metadata": {},
   "source": [
    "Okay, so we got our Categorical Variable **thal** converted into numerical variable, **thal_cleaned** for the sake of fitting the Gaussian Naive Bayes."
   ]
  },
  {
   "cell_type": "code",
   "execution_count": 17,
   "metadata": {
    "collapsed": true
   },
   "outputs": [],
   "source": [
    "# Split dataset in training and test datasets\n",
    "X_train, X_test = train_test_split(heart_df, test_size=0.2, random_state=int(time.time()))"
   ]
  },
  {
   "cell_type": "code",
   "execution_count": 18,
   "metadata": {},
   "outputs": [
    {
     "name": "stdout",
     "output_type": "stream",
     "text": [
      "Number of mislabeled points out of a total 36 points : 3, performance 91.67%\n"
     ]
    }
   ],
   "source": [
    "# Instantiate the classifier\n",
    "gnb = GaussianNB()\n",
    "used_features =[\n",
    "    \"slope_of_peak_exercise_st_segment\",\n",
    "    \"thal_cleaned\",\n",
    "    \"resting_blood_pressure\",\n",
    "    \"chest_pain_type\",\n",
    "    \"num_major_vessels\",\n",
    "    \"fasting_blood_sugar_gt_120_mg_per_dl\",\n",
    "    \"resting_ekg_results\",\n",
    "    \"serum_cholesterol_mg_per_dl\",\n",
    "    \"oldpeak_eq_st_depression\",\n",
    "    \"sex\",\n",
    "    \"age\",\n",
    "    \"max_heart_rate_achieved\",\n",
    "    \"exercise_induced_angina\"\n",
    "]\n",
    "\n",
    "# Train classifier\n",
    "gnb.fit(\n",
    "    X_train[used_features].values,\n",
    "    X_train[\"heart_disease_present\"]\n",
    ")\n",
    "y_pred = gnb.predict(X_test[used_features])\n",
    "\n",
    "# Print results\n",
    "print(\"Number of mislabeled points out of a total {} points : {}, performance {:05.2f}%\"\n",
    "      .format(\n",
    "          X_test.shape[0],\n",
    "          (X_test[\"heart_disease_present\"] != y_pred).sum(),\n",
    "          100*(1-(X_test[\"heart_disease_present\"] != y_pred).sum()/X_test.shape[0])\n",
    "))"
   ]
  },
  {
   "cell_type": "markdown",
   "metadata": {},
   "source": [
    "As, we can see that the performance of our Classifier has increased this time to a whopping **91.67%** "
   ]
  },
  {
   "cell_type": "code",
   "execution_count": 20,
   "metadata": {},
   "outputs": [
    {
     "name": "stdout",
     "output_type": "stream",
     "text": [
      "Heart Disease Presence prob = 41.67%, Heart Disease Absent prob = 58.33%\n"
     ]
    }
   ],
   "source": [
    "# Probability of Presence of Heart Disease and Probability of Absence of Heart Disease\n",
    "mean_heart_disease_present=np.mean(X_train[\"heart_disease_present\"])\n",
    "mean_not_heart_disease_present=1-mean_heart_disease_present\n",
    "print(\"Heart Disease Presence prob = {:03.2f}%, Heart Disease Absent prob = {:03.2f}%\"\n",
    "      .format(100*mean_heart_disease_present,100*mean_not_heart_disease_present))"
   ]
  },
  {
   "cell_type": "markdown",
   "metadata": {},
   "source": [
    "## Impact of Maximum Heart Rate Achieved on Presence & Absence of Heart Disease"
   ]
  },
  {
   "cell_type": "code",
   "execution_count": 24,
   "metadata": {},
   "outputs": [
    {
     "name": "stdout",
     "output_type": "stream",
     "text": [
      "mean_max_heart_rate_heart_disease_present = 140.50\n",
      "std_max_heart_rate_heart_disease_present = 22.74\n",
      "mean_max_heart_rate_not_heart_disease_present = 157.27\n",
      "std_max_heart_rate_not_heart_disease_present = 19.37\n"
     ]
    }
   ],
   "source": [
    "# Mean and Standard Deviation of Heart Disease for Different Values of Maximum Heart Rate\n",
    "\n",
    "mean_max_heart_rate_heart_disease_present = np.mean(X_train[X_train[\"heart_disease_present\"]==1][\"max_heart_rate_achieved\"])\n",
    "std_max_heart_rate_heart_disease_present = np.std(X_train[X_train[\"heart_disease_present\"]==1][\"max_heart_rate_achieved\"])\n",
    "mean_max_heart_rate_not_heart_disease_present = np.mean(X_train[X_train[\"heart_disease_present\"]==0][\"max_heart_rate_achieved\"])\n",
    "std_max_heart_rate_not_heart_disease_present = np.std(X_train[X_train[\"heart_disease_present\"]==0][\"max_heart_rate_achieved\"])\n",
    "\n",
    "print(\"mean_max_heart_rate_heart_disease_present = {:03.2f}\".format(mean_max_heart_rate_heart_disease_present))\n",
    "print(\"std_max_heart_rate_heart_disease_present = {:03.2f}\".format(std_max_heart_rate_heart_disease_present))\n",
    "print(\"mean_max_heart_rate_not_heart_disease_present = {:03.2f}\".format(mean_max_heart_rate_not_heart_disease_present))\n",
    "print(\"std_max_heart_rate_not_heart_disease_present = {:03.2f}\".format(std_max_heart_rate_not_heart_disease_present))\n"
   ]
  },
  {
   "cell_type": "markdown",
   "metadata": {},
   "source": [
    "So, seems like the maximum heart rate achieved during any physical stress test seems to be on the lower side for the patient with the probability of heart disease present. On the other hand patient with a healthy heart and with lower risk of presence of heart disease has a higher maximum heart rate achieved during any physical exercise or physical stress test."
   ]
  },
  {
   "cell_type": "markdown",
   "metadata": {},
   "source": [
    "## Model's Performance with Impact of Maximum Heart Rate Achieved"
   ]
  },
  {
   "cell_type": "code",
   "execution_count": 28,
   "metadata": {},
   "outputs": [
    {
     "name": "stdout",
     "output_type": "stream",
     "text": [
      "Number of mislabeled points out of a total 36 points : 15, performance 58.33%\n"
     ]
    }
   ],
   "source": [
    "from sklearn.naive_bayes import GaussianNB\n",
    "gnb = GaussianNB()\n",
    "used_features =[\"max_heart_rate_achieved\"]\n",
    "y_pred = gnb.fit(X_train[used_features].values, X_train[\"heart_disease_present\"]).predict(X_test[used_features])\n",
    "print(\"Number of mislabeled points out of a total {} points : {}, performance {:05.2f}%\"\n",
    "      .format(\n",
    "          X_test.shape[0],\n",
    "          (X_test[\"heart_disease_present\"] != y_pred).sum(),\n",
    "          100*(1-(X_test[\"heart_disease_present\"] != y_pred).sum()/X_test.shape[0])\n",
    "))"
   ]
  },
  {
   "cell_type": "markdown",
   "metadata": {},
   "source": [
    "## Impact of Resting Blood Pressure on Presence & Absence of Heart Disease"
   ]
  },
  {
   "cell_type": "code",
   "execution_count": 25,
   "metadata": {},
   "outputs": [
    {
     "name": "stdout",
     "output_type": "stream",
     "text": [
      "mean_resting_blood_pressure_heart_disease_present = 133.20\n",
      "std_resting_blood_pressure_heart_disease_present = 18.03\n",
      "mean_resting_blood_pressure_not_heart_disease_present = 129.96\n",
      "std_resting_blood_pressure_not_heart_disease_present = 16.95\n"
     ]
    }
   ],
   "source": [
    "# Mean and Standard Deviation of Heart Disease for Different Values of Resting Blood Pressure\n",
    "\n",
    "mean_resting_blood_pressure_heart_disease_present = np.mean(X_train[X_train[\"heart_disease_present\"]==1][\"resting_blood_pressure\"])\n",
    "std_resting_blood_pressure_heart_disease_present = np.std(X_train[X_train[\"heart_disease_present\"]==1][\"resting_blood_pressure\"])\n",
    "mean_resting_blood_pressure_not_heart_disease_present = np.mean(X_train[X_train[\"heart_disease_present\"]==0][\"resting_blood_pressure\"])\n",
    "std_resting_blood_pressure_not_heart_disease_present = np.std(X_train[X_train[\"heart_disease_present\"]==0][\"resting_blood_pressure\"])\n",
    "\n",
    "print(\"mean_resting_blood_pressure_heart_disease_present = {:03.2f}\".format(mean_resting_blood_pressure_heart_disease_present))\n",
    "print(\"std_resting_blood_pressure_heart_disease_present = {:03.2f}\".format(std_resting_blood_pressure_heart_disease_present))\n",
    "print(\"mean_resting_blood_pressure_not_heart_disease_present = {:03.2f}\".format(mean_resting_blood_pressure_not_heart_disease_present))\n",
    "print(\"std_resting_blood_pressure_not_heart_disease_present = {:03.2f}\".format(std_resting_blood_pressure_not_heart_disease_present))"
   ]
  },
  {
   "cell_type": "markdown",
   "metadata": {},
   "source": [
    "So, for obvious reason it seems like the mean of the resting BP for patient with heart disease is on the higher side than the mean of the resting blood pressure for patient with less resting blood pressure.  "
   ]
  },
  {
   "cell_type": "markdown",
   "metadata": {},
   "source": [
    "## Model's Performance with Impact of Resting Blood Pressure"
   ]
  },
  {
   "cell_type": "code",
   "execution_count": 29,
   "metadata": {},
   "outputs": [
    {
     "name": "stdout",
     "output_type": "stream",
     "text": [
      "Number of mislabeled points out of a total 36 points : 21, performance 41.67%\n"
     ]
    }
   ],
   "source": [
    "from sklearn.naive_bayes import GaussianNB\n",
    "gnb = GaussianNB()\n",
    "used_features =[\"resting_blood_pressure\"]\n",
    "y_pred = gnb.fit(X_train[used_features].values, X_train[\"heart_disease_present\"]).predict(X_test[used_features])\n",
    "print(\"Number of mislabeled points out of a total {} points : {}, performance {:05.2f}%\"\n",
    "      .format(\n",
    "          X_test.shape[0],\n",
    "          (X_test[\"heart_disease_present\"] != y_pred).sum(),\n",
    "          100*(1-(X_test[\"heart_disease_present\"] != y_pred).sum()/X_test.shape[0])\n",
    "))"
   ]
  },
  {
   "cell_type": "markdown",
   "metadata": {},
   "source": [
    "## Impact of Blood Cholesterol on Presence & Absence of Heart Disease"
   ]
  },
  {
   "cell_type": "code",
   "execution_count": 26,
   "metadata": {},
   "outputs": [
    {
     "name": "stdout",
     "output_type": "stream",
     "text": [
      "mean_cholesterol_heart_disease_present = 252.43\n",
      "std_cholesterol_heart_disease_present = 45.92\n",
      "mean_cholesterol_not_heart_disease_present = 246.87\n",
      "std_cholesterol_not_heart_disease_present = 59.92\n"
     ]
    }
   ],
   "source": [
    "# Mean and Standard Deviation of Heart Disease for Different Values of Maximum Heart Rate\n",
    "\n",
    "mean_cholesterol_heart_disease_present = np.mean(X_train[X_train[\"heart_disease_present\"]==1][\"serum_cholesterol_mg_per_dl\"])\n",
    "std_cholesterol_heart_disease_present = np.std(X_train[X_train[\"heart_disease_present\"]==1][\"serum_cholesterol_mg_per_dl\"])\n",
    "mean_cholesterol_not_heart_disease_present = np.mean(X_train[X_train[\"heart_disease_present\"]==0][\"serum_cholesterol_mg_per_dl\"])\n",
    "std_cholesterol_not_heart_disease_present = np.std(X_train[X_train[\"heart_disease_present\"]==0][\"serum_cholesterol_mg_per_dl\"])\n",
    "\n",
    "print(\"mean_cholesterol_heart_disease_present = {:03.2f}\".format(mean_cholesterol_heart_disease_present))\n",
    "print(\"std_cholesterol_heart_disease_present = {:03.2f}\".format(std_cholesterol_heart_disease_present))\n",
    "print(\"mean_cholesterol_not_heart_disease_present = {:03.2f}\".format(mean_cholesterol_not_heart_disease_present))\n",
    "print(\"std_cholesterol_not_heart_disease_present = {:03.2f}\".format(std_cholesterol_not_heart_disease_present))"
   ]
  },
  {
   "cell_type": "markdown",
   "metadata": {},
   "source": [
    "Okay, so for obvious reason the presence of heart disease inceases with the increase in the mean of the cholesterol present in blood. "
   ]
  },
  {
   "cell_type": "markdown",
   "metadata": {},
   "source": [
    "## Model's Performance with Impact of Blood Cholesterol"
   ]
  },
  {
   "cell_type": "code",
   "execution_count": 30,
   "metadata": {},
   "outputs": [
    {
     "name": "stdout",
     "output_type": "stream",
     "text": [
      "Number of mislabeled points out of a total 36 points : 20, performance 44.44%\n"
     ]
    }
   ],
   "source": [
    "from sklearn.naive_bayes import GaussianNB\n",
    "gnb = GaussianNB()\n",
    "used_features =[\"serum_cholesterol_mg_per_dl\"]\n",
    "y_pred = gnb.fit(X_train[used_features].values, X_train[\"heart_disease_present\"]).predict(X_test[used_features])\n",
    "print(\"Number of mislabeled points out of a total {} points : {}, performance {:05.2f}%\"\n",
    "      .format(\n",
    "          X_test.shape[0],\n",
    "          (X_test[\"heart_disease_present\"] != y_pred).sum(),\n",
    "          100*(1-(X_test[\"heart_disease_present\"] != y_pred).sum()/X_test.shape[0])\n",
    "))"
   ]
  },
  {
   "cell_type": "markdown",
   "metadata": {},
   "source": [
    "It seems that the Model's performance was at it's best when the used feature is Maximum Heart Rate Acheieved during a physical stress test for patient to be classified as Patient with Heart Disease and Patient without Heart Disease."
   ]
  }
 ],
 "metadata": {
  "kernelspec": {
   "display_name": "Python 3",
   "language": "python",
   "name": "python3"
  },
  "language_info": {
   "codemirror_mode": {
    "name": "ipython",
    "version": 3
   },
   "file_extension": ".py",
   "mimetype": "text/x-python",
   "name": "python",
   "nbconvert_exporter": "python",
   "pygments_lexer": "ipython3",
   "version": "3.6.2"
  }
 },
 "nbformat": 4,
 "nbformat_minor": 2
}
